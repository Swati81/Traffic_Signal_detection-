{
 "cells": [
  {
   "cell_type": "code",
   "execution_count": 1,
   "metadata": {},
   "outputs": [],
   "source": [
    "import cv2\n",
    "import numpy as np\n",
    "import h5py\n",
    "from keras.models import load_model\n",
    "import pandas as pd"
   ]
  },
  {
   "cell_type": "code",
   "execution_count": 2,
   "metadata": {},
   "outputs": [],
   "source": [
    "labelFile = 'labels.csv'\n",
    "df = pd.read_csv(labelFile)\n",
    "label = df['Name']\n",
    "font = cv2.FONT_HERSHEY_SIMPLEX\n",
    "model = load_model('Traffic_model.h5')\n",
    "threshold = 0.60\n",
    "\n",
    "def grayScale(img):\n",
    "    img = cv2.cvtColor(img,cv2.COLOR_BGR2GRAY)\n",
    "    return img\n",
    "    \n",
    "def equalize(img):\n",
    "    img = cv2.equalizeHist(img)\n",
    "    return img\n",
    "\n",
    "def preprossesing(img):\n",
    "    img = grayScale(img)\n",
    "    img = cv2.equalizeHist(img)\n",
    "    img = img/255\n",
    "    return img\n",
    "\n",
    "cap = cv2.VideoCapture(0)\n",
    "cap.set(3,920)\n",
    "cap.set(4,600)\n",
    "cap.set(10,150)\n",
    "\n",
    "while True:\n",
    "    success,image = cap.read()\n",
    "    img = np.asarray(image)\n",
    "    img = cv2.resize(img,(32,32))\n",
    "    img = preprossesing(img)\n",
    "    img = img.reshape(-1,32,32,1)\n",
    "    pred = model.predict(img)\n",
    "    clss = np.argmax(pred)\n",
    "    prob = np.max(pred)\n",
    "    if (prob >= threshold):\n",
    "        text = label[clss]\n",
    "    else: \n",
    "        text = 'No Signal'\n",
    "    cv2.putText(image,text,(60,40),font,1,(0,155,255),3,cv2.LINE_AA)\n",
    "    cv2.imshow('Processed Image',image)\n",
    "    if cv2.waitKey(5) == 13:  ## press 'Enter' to quit..\n",
    "        break\n",
    "cap.release()\n",
    "cv2.destroyAllWindows()\n",
    "    "
   ]
  },
  {
   "cell_type": "markdown",
   "metadata": {},
   "source": [
    "## Here is a demo how it will predict--\n",
    "\n"
   ]
  }
 ],
 "metadata": {
  "kernelspec": {
   "display_name": "Python 3",
   "language": "python",
   "name": "python3"
  },
  "language_info": {
   "codemirror_mode": {
    "name": "ipython",
    "version": 3
   },
   "file_extension": ".py",
   "mimetype": "text/x-python",
   "name": "python",
   "nbconvert_exporter": "python",
   "pygments_lexer": "ipython3",
   "version": "3.8.5"
  }
 },
 "nbformat": 4,
 "nbformat_minor": 4
}
